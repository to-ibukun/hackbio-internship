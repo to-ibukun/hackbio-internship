{
  "cells": [
    {
      "cell_type": "markdown",
      "metadata": {
        "id": "view-in-github",
        "colab_type": "text"
      },
      "source": [
        "<a href=\"https://colab.research.google.com/github/to-ibukun/hackbio-internship/blob/main/Stage_0_HackBio.ipynb\" target=\"_parent\"><img src=\"https://colab.research.google.com/assets/colab-badge.svg\" alt=\"Open In Colab\"/></a>"
      ]
    },
    {
      "cell_type": "code",
      "source": [],
      "metadata": {
        "id": "TKv_nG-fE4On"
      },
      "execution_count": null,
      "outputs": []
    },
    {
      "cell_type": "markdown",
      "source": [],
      "metadata": {
        "id": "RTlEEHuk6a7J"
      }
    },
    {
      "cell_type": "code",
      "source": [
        "# Proline team information using dictionaries-python\n",
        "# Organizing the information using a dictionary of dictionaries\n",
        "team_members = {\n",
        "    'CG': {'Slack Username': 'CG', 'Email': 'charisobakpolo@gmail.com', 'Hobby': 'Music', 'Country': 'Nigeria', 'Discipline': 'Physiology', 'Preferred Programming Language': 'Python'},\n",
        "    'TOIBUKUN': {'Slack Username': 'toibukun', 'Email': 'ogunoyeblessingtoyosi@gmail.com', 'Hobby': 'Sunset Photography', 'Country': 'Nigeria', 'Discipline': 'Medicine and Surgery', 'Preferred Programming Language': 'Python'},\n",
        "    'Fatemah': {'Slack Username': 'Fatemah Alsolaiman', 'Email': 'fatemah.solaiman@gmail.com', 'Hobby': 'Reading', 'Country': 'Saudi Arabia', 'Discipline': 'Biology', 'Preferred Programming Language': 'Python'},\n",
        "    'Funmilayo': {'Slack Username': 'Funmilayo', 'Email': 'ligalifunmilayo@gmail.com', 'Hobby': 'Cooking', 'Country': 'Nigeria', 'Discipline': 'Biochemistry', 'Preferred Programming Language': 'Python'}\n",
        "}\n",
        "\n",
        "# Saving the formatted strings to variables\n",
        "CG_info = f\"Name: Obakpolo Charis-Grace,\\n Slack Username: {team_members['CG']['Slack Username']},\\n Email: {team_members['CG']['Email']},\\n Hobby: {team_members['CG']['Hobby']},\\n Country: {team_members['CG']['Country']},\\n Discipline: {team_members['CG']['Discipline']},\\n Preferred Programming Language: {team_members['CG']['Preferred Programming Language']}\"\n",
        "TOIBUKUN_info = f\"Name: Ogunoye Blessing,\\n Slack Username: {team_members['TOIBUKUN']['Slack Username']},\\n Email: {team_members['TOIBUKUN']['Email']},\\n Hobby: {team_members['TOIBUKUN']['Hobby']},\\n Country: {team_members['TOIBUKUN']['Country']},\\n Discipline: {team_members['TOIBUKUN']['Discipline']},\\n Preferred Programming Language: {team_members['TOIBUKUN']['Preferred Programming Language']}\"\n",
        "Fatemah_info = f\"Name: Fatemah Alsolaiman,\\n Slack Username: {team_members['Fatemah']['Slack Username']},\\n Email: {team_members['Fatemah']['Email']},\\n Hobby: {team_members['Fatemah']['Hobby']},\\n Country: {team_members['Fatemah']['Country']},\\n Discipline: {team_members['Fatemah']['Discipline']},\\n Preferred Programming Language: {team_members['Fatemah']['Preferred Programming Language']}\"\n",
        "Funmilayo_info = f\"Name: Funmilayo Ligali,\\n Slack Username: {team_members['Funmilayo']['Slack Username']},\\n Email: {team_members['Funmilayo']['Email']},\\n Hobby: {team_members['Funmilayo']['Hobby']},\\n Country: {team_members['Funmilayo']['Country']},\\n Discipline: {team_members['Funmilayo']['Discipline']},\\n Preferred Programming Language: {team_members['Funmilayo']['Preferred Programming Language']}\"\n",
        "\n",
        "# Merging into one print function\n",
        "print(f\"Team Members Information:\\n 1. {CG_info}\\n\\n 2.{TOIBUKUN_info}\\n\\n 3.{Fatemah_info}\\n\\n 4.{Funmilayo_info}\")\n",
        "\n",
        "#github profile for team\n",
        "# Ogunoye Blessing's Github page: https://github.com/to-ibukun\n",
        "# Obakpolo Charis-Grace Github page: https://github.com/CeeGeeObas\n",
        "# Funmilayo Ligali's Github page: https://github.com/Christianah001\n",
        "# Fatemah Alsolaiman's Github page: https://github.com/92Faty\n",
        "\n",
        "#LinkedIn link for the posted video\n",
        "#https://www.linkedin.com/posts/charis-grace-obakpolo-327492216_hackbio-codingforbio-stage0-activity-7294008840801468416-k8tj/?utm_source=share&utm_medium=member_android\n"
      ],
      "metadata": {
        "id": "DyBhDQIlwZcM",
        "colab": {
          "base_uri": "https://localhost:8080/"
        },
        "outputId": "229ba142-b371-455a-bf71-287205af3ec2"
      },
      "execution_count": null,
      "outputs": [
        {
          "output_type": "stream",
          "name": "stdout",
          "text": [
            "Team Members Information:\n",
            " 1. Name: Obakpolo Charis-Grace,\n",
            " Slack Username: CG,\n",
            " Email: charisobakpolo@gmail.com,\n",
            " Hobby: Music,\n",
            " Country: Nigeria,\n",
            " Discipline: Physiology,\n",
            " Preferred Programming Language: Python\n",
            "\n",
            " 2.Name: Ogunoye Blessing,\n",
            " Slack Username: toibukun,\n",
            " Email: ogunoyeblessingtoyosi@gmail.com,\n",
            " Hobby: Sunset Photography,\n",
            " Country: Nigeria,\n",
            " Discipline: Medicine and Surgery,\n",
            " Preferred Programming Language: Python\n",
            "\n",
            " 3.Name: Fatemah Alsolaiman,\n",
            " Slack Username: Fatemah Alsolaiman,\n",
            " Email: fatemah.solaiman@gmail.com,\n",
            " Hobby: Reading,\n",
            " Country: Saudi Arabia,\n",
            " Discipline: Biology,\n",
            " Preferred Programming Language: Python\n",
            "\n",
            " 4.Name: Funmilayo Ligali,\n",
            " Slack Username: Funmilayo,\n",
            " Email: ligalifunmilayo@gmail.com,\n",
            " Hobby: Cooking,\n",
            " Country: Nigeria,\n",
            " Discipline: Biochemistry,\n",
            " Preferred Programming Language: Python\n"
          ]
        }
      ]
    },
    {
      "cell_type": "code",
      "execution_count": null,
      "metadata": {
        "id": "vcle_j-g1e4j"
      },
      "outputs": [],
      "source": []
    },
    {
      "cell_type": "markdown",
      "source": [
        "Code Explianation Stage #0\n",
        "\n",
        "The code for the task was executed with the following steps:\n",
        "\n",
        "* Creating a dictionary named team_member, within which there are sub-dictionaries for each member. Each sub-dictionary contains information about the corresponding member.\n",
        "\n",
        "* Saving formatted strings to variables corresponding to each member. These formatted strings include code to extract information from the dictionary and sub-dictionaries for each member. The '\\n' character is used to create new lines when needed.\n",
        "\n",
        "* Using a single print function to call each variable. The '\\n' character is used to create new lines within the print function."
      ],
      "metadata": {
        "id": "HMN5LehxIGYT"
      }
    },
    {
      "cell_type": "markdown",
      "metadata": {
        "id": "VQRKkAKlzbSB"
      },
      "source": [
        "# New Section"
      ]
    }
  ],
  "metadata": {
    "colab": {
      "provenance": [],
      "include_colab_link": true
    },
    "kernelspec": {
      "display_name": "Python 3",
      "name": "python3"
    },
    "language_info": {
      "name": "python"
    }
  },
  "nbformat": 4,
  "nbformat_minor": 0
}
{
  "nbformat": 4,
  "nbformat_minor": 0,
  "metadata": {
    "colab": {
      "provenance": [],
      "authorship_tag": "ABX9TyNQXf7Q8L+BHfR9BeQGh+JP",
      "include_colab_link": true
    },
    "kernelspec": {
      "name": "python3",
      "display_name": "Python 3"
    },
    "language_info": {
      "name": "python"
    }
  },
  "cells": [
    {
      "cell_type": "markdown",
      "metadata": {
        "id": "view-in-github",
        "colab_type": "text"
      },
      "source": [
        "<a href=\"https://colab.research.google.com/github/to-ibukun/hackbio-internship/blob/main/Hackbio_stage_o_task.ipynb\" target=\"_parent\"><img src=\"https://colab.research.google.com/assets/colab-badge.svg\" alt=\"Open In Colab\"/></a>"
      ]
    },
    {
      "cell_type": "code",
      "execution_count": 9,
      "metadata": {
        "colab": {
          "base_uri": "https://localhost:8080/"
        },
        "id": "D-k5McqYxuFO",
        "outputId": "753650b0-62ea-480d-ce7d-1af47475be69"
      },
      "outputs": [
        {
          "output_type": "stream",
          "name": "stdout",
          "text": [
            "\n",
            " Ogunoye Detail \n",
            "Name: Ogunoye Blessing\n",
            "Slack Username: toibukun\n",
            "Email: ogunoyeblessingtoyosi.com\n",
            "Hobby: Sunset Photography\n",
            "Country: Nigeria\n",
            "Discipline: Medicine and Surgery\n",
            "Preferred programming language: Python\n",
            "Email: ogunoyeblessingtoyosi.com\n",
            "Hobby: Sunset Photography\n",
            "Country: Nigeria\n",
            "Discipline: Medicine and Surgery\n",
            "Preferred programming language: Python\n"
          ]
        }
      ],
      "source": [
        "\n",
        "#start coding...\n",
        "#Topics Covered: Coding Syntax, Data types and Data Structures\n",
        "Ogunoye_detail = {\n",
        "    \"Name\": \"Ogunoye Blessing\",\n",
        "    \"Slack Username\" : \"toibukun\",\n",
        "    \"Email\": \"ogunoyeblessingtoyosi.com\",\n",
        "    \"Hobby\": \"Sunset Photography\",\n",
        "    \"Country\": \"Nigeria\",\n",
        "    \"Discipline\": \"Medicine and Surgery\",\n",
        "    \"Preferred programming language\": \"Python\"\n",
        "}\n",
        "print(\"\\n Ogunoye Detail \")\n",
        "print(\"Name:\", Ogunoye_detail[\"Name\"])\n",
        "print(\"Slack Username:\", Ogunoye_detail[\"Slack Username\"])\n",
        "print(\"Email:\", Ogunoye_detail[\"Email\"])\n",
        "print(\"Hobby:\", Ogunoye_detail[\"Hobby\"])\n",
        "print(\"Country:\", Ogunoye_detail[\"Country\"])\n",
        "print(\"Discipline:\", Ogunoye_detail[\"Discipline\"])\n",
        "print(\"Preferred programming language:\", Ogunoye_detail[\"Preferred programming language\"])\n",
        "print(\"Email:\", Ogunoye_detail[\"Email\"])\n",
        "print(\"Hobby:\", Ogunoye_detail[\"Hobby\"])\n",
        "print(\"Country:\", Ogunoye_detail[\"Country\"])\n",
        "print(\"Discipline:\", Ogunoye_detail[\"Discipline\"])\n",
        "print(\"Preferred programming language:\", Ogunoye_detail[\"Preferred programming language\"])\n",
        "\n",
        "\n"
      ]
    }
  ]
}